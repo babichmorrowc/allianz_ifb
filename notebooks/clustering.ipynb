{
 "cells": [
  {
   "cell_type": "code",
   "execution_count": 1,
   "id": "3d94c113-b2a4-48b8-bb44-4b1234fc1eff",
   "metadata": {},
   "outputs": [],
   "source": [
    "import os\n",
    "import numpy as np\n",
    "import pandas as pd\n",
    "import matplotlib.pyplot as plt\n",
    "import seaborn as sns\n",
    "from sklearn.model_selection import train_test_split\n",
    "from sklearn.preprocessing import OneHotEncoder, StandardScaler, MinMaxScaler\n",
    "from sklearn.base import BaseEstimator, TransformerMixin\n",
    "from sklearn.compose import make_column_transformer\n",
    "from sklearn.model_selection import GridSearchCV, StratifiedKFold\n",
    "from sklearn.metrics import roc_curve, recall_score, make_scorer, roc_auc_score\n",
    "from sklearn.pipeline import make_pipeline, Pipeline\n",
    "from sklearn.linear_model import LogisticRegression\n",
    "from sklearn.decomposition import PCA\n",
    "from light_famd import FAMD\n",
    "import prince\n",
    "import gower"
   ]
  },
  {
   "cell_type": "code",
   "execution_count": 2,
   "id": "3f055eba-bcf1-469d-a0b7-d5c713bf09f8",
   "metadata": {},
   "outputs": [],
   "source": [
    "DATA_PATH = './archive'\n",
    "\n",
    "df = pd.read_csv(os.path.join(DATA_PATH, 'Base.csv'))\n",
    "\n",
    "# intended_balcon_amount is the only variable where missingness is represented by any negative value\n",
    "# Replace all negative intended_balcon_amount values with -1\n",
    "df.loc[df['intended_balcon_amount'] < 0, 'intended_balcon_amount'] = -1\n",
    "\n",
    "# List of columns where missingness is indicated with -1\n",
    "cols_missing_neg1 = ['prev_address_months_count',\n",
    "                     'current_address_months_count',\n",
    "                     'bank_months_count',\n",
    "                     'session_length_in_minutes',\n",
    "                     'device_distinct_emails_8w',\n",
    "                     'intended_balcon_amount'] # already replaced all negative values with -1\n",
    "\n",
    "# Add missingness indicator variables to cols_missing_neg1\n",
    "for col in cols_missing_neg1:\n",
    "    df[col + '_ismissing'] = (df[col] == -1).astype(int)\n",
    "\n",
    "#remove columns with large amounts of missing data and columns that are always 0\n",
    "df = df.drop(['bank_months_count',\n",
    "              'prev_address_months_count',\n",
    "              'intended_balcon_amount',\n",
    "              'device_fraud_count'], # always 0\n",
    "              axis = 1)"
   ]
  },
  {
   "cell_type": "code",
   "execution_count": 3,
   "id": "2c2b3b6b-ace3-4feb-91cb-ad0324a4b4ca",
   "metadata": {},
   "outputs": [],
   "source": [
    "target = 'fraud_bool'\n",
    "X = df.drop(target,axis=1)\n",
    "y = df[target]"
   ]
  },
  {
   "cell_type": "code",
   "execution_count": 4,
   "id": "6ef6437a-bc6e-400b-a2fa-f7e512420c8d",
   "metadata": {},
   "outputs": [],
   "source": [
    "thresh = 25\n",
    "num_feats = X.select_dtypes(include='number').columns.tolist()\n",
    "non_num_feats = X.select_dtypes(exclude='number').columns.tolist()\n",
    "cont_feats = [feat for feat in num_feats if df[feat].nunique() >= thresh]\n",
    "disc_feats = [feat for feat in num_feats if df[feat].nunique() < thresh]"
   ]
  },
  {
   "cell_type": "code",
   "execution_count": 5,
   "id": "57d9484a-35df-4a2a-aad7-b620f3e35255",
   "metadata": {},
   "outputs": [
    {
     "data": {
      "text/plain": [
       "(17, 11, 5)"
      ]
     },
     "execution_count": 5,
     "metadata": {},
     "output_type": "execute_result"
    }
   ],
   "source": [
    "len(disc_feats), len(cont_feats), len(non_num_feats)"
   ]
  },
  {
   "cell_type": "code",
   "execution_count": 6,
   "id": "69343503-0e72-43c1-a1ce-86e4e1fc0539",
   "metadata": {},
   "outputs": [
    {
     "data": {
      "text/plain": [
       "33"
      ]
     },
     "execution_count": 6,
     "metadata": {},
     "output_type": "execute_result"
    }
   ],
   "source": [
    "len(disc_feats) + len(cont_feats) + len(non_num_feats)"
   ]
  },
  {
   "cell_type": "code",
   "execution_count": 7,
   "id": "c5bf0f8d-ac66-40e4-8c73-3af1be9da2c0",
   "metadata": {},
   "outputs": [
    {
     "data": {
      "text/plain": [
       "33"
      ]
     },
     "execution_count": 7,
     "metadata": {},
     "output_type": "execute_result"
    }
   ],
   "source": [
    "len(X.columns.tolist())"
   ]
  },
  {
   "cell_type": "code",
   "execution_count": 8,
   "id": "7867fd57-0e31-4ac2-9fcc-66850e7e2264",
   "metadata": {},
   "outputs": [
    {
     "data": {
      "text/plain": [
       "5"
      ]
     },
     "execution_count": 8,
     "metadata": {},
     "output_type": "execute_result"
    }
   ],
   "source": [
    "X['payment_type'].nunique()"
   ]
  },
  {
   "cell_type": "code",
   "execution_count": 9,
   "id": "40668d29-2b23-4244-a33a-b0c838f9d8eb",
   "metadata": {},
   "outputs": [],
   "source": [
    "# Do the OHE first\n",
    "# Dealing with disc_feats\n",
    "bin_vars = list()\n",
    "for col in disc_feats:\n",
    "    n_uniq = X[col].nunique()\n",
    "    if n_uniq == 2: bin_vars.append(col)\n",
    "        \n",
    "non_num_feats_ext = non_num_feats + bin_vars\n",
    "assert len(non_num_feats_ext) == len(bin_vars) + len(non_num_feats)\n",
    "\n",
    "# For these remaining variables, makes more sense to treat them as cts\n",
    "rem_vars = [col for col in disc_feats if col not in bin_vars]\n",
    "cont_feats_ext = cont_feats + rem_vars\n",
    "assert len(cont_feats_ext) == len(cont_feats) + len(rem_vars)\n",
    "\n",
    "# Dealing with non_num_feats\n",
    "X_tr_non_num_feats = list()\n",
    "for col in non_num_feats_ext:\n",
    "    n_uniq = X[col].nunique()\n",
    "    if n_uniq <= 2: \n",
    "        X_tr_non_num_feats.append(\n",
    "            pd.get_dummies(X[col],prefix=f\"{col}_\", drop_first=True)\n",
    "        )\n",
    "    else:\n",
    "        X_tr_non_num_feats.append(\n",
    "            pd.get_dummies(X[col],prefix=f\"{col}_\",drop_first=False)\n",
    "        )\n",
    "X_tr_non_num_feats = pd.concat(X_tr_non_num_feats,axis=1)\n",
    "\n",
    "# Without transformation, with OHE\n",
    "X = pd.concat([X[cont_feats_ext], X_tr_non_num_feats], axis=1)"
   ]
  },
  {
   "cell_type": "code",
   "execution_count": 10,
   "id": "4657ed83-c99e-422b-8fbc-a24a03d051e7",
   "metadata": {},
   "outputs": [],
   "source": [
    "# Perform scaling to (0,1)\n",
    "scaler = MinMaxScaler(feature_range=(0,1))\n",
    "scaler.fit(X[cont_feats_ext])\n",
    "numerical_data = scaler.transform(X[cont_feats_ext])\n",
    "numerical_data = pd.DataFrame(numerical_data,index=X.index,columns=cont_feats_ext)\n",
    "\n",
    "X_trans = pd.concat([numerical_data, X_tr_non_num_feats], axis=1)"
   ]
  },
  {
   "cell_type": "code",
   "execution_count": 11,
   "id": "68e01912-02b6-4fb3-b597-1a6338269d8b",
   "metadata": {},
   "outputs": [
    {
     "data": {
      "text/plain": [
       "16"
      ]
     },
     "execution_count": 11,
     "metadata": {},
     "output_type": "execute_result"
    }
   ],
   "source": [
    "X_trans_first_mnth = X_trans[X_trans['month'] == 0.0]\n",
    "X_trans_first_mnth = X_trans_first_mnth.drop('month',axis=1, inplace=False)\n",
    "len(numerical_data.columns) #index 15 and on is categorical"
   ]
  },
  {
   "cell_type": "code",
   "execution_count": 12,
   "id": "fd5ffd67-f0d9-48f6-b962-c51502d0d312",
   "metadata": {},
   "outputs": [
    {
     "data": {
      "text/plain": [
       "(132440, 52)"
      ]
     },
     "execution_count": 12,
     "metadata": {},
     "output_type": "execute_result"
    }
   ],
   "source": [
    "X_trans_first_mnth.to_numpy().shape"
   ]
  },
  {
   "cell_type": "code",
   "execution_count": 68,
   "id": "c762d92c-2830-46c9-8cf9-cb3229c14394",
   "metadata": {},
   "outputs": [
    {
     "name": "stdout",
     "output_type": "stream",
     "text": [
      "Init: initializing centroids\n",
      "Init: initializing clusters\n",
      "Starting iterations...\n",
      "Run 1, iteration: 1/100, moves: 25816, cost: 2412797.0\n",
      "Run 1, iteration: 2/100, moves: 3306, cost: 2412797.0\n",
      "Init: initializing centroids\n",
      "Init: initializing clusters\n",
      "Starting iterations...\n",
      "Run 2, iteration: 1/100, moves: 19948, cost: 2405318.0\n",
      "Init: initializing centroids\n",
      "Init: initializing clusters\n",
      "Starting iterations...\n",
      "Run 3, iteration: 1/100, moves: 26379, cost: 2416537.0\n",
      "Run 3, iteration: 2/100, moves: 0, cost: 2416537.0\n",
      "Init: initializing centroids\n",
      "Init: initializing clusters\n",
      "Starting iterations...\n",
      "Run 4, iteration: 1/100, moves: 21692, cost: 2400758.0\n",
      "Run 4, iteration: 2/100, moves: 16456, cost: 2400758.0\n",
      "Init: initializing centroids\n",
      "Init: initializing clusters\n",
      "Starting iterations...\n",
      "Run 5, iteration: 1/100, moves: 26919, cost: 2406259.0\n",
      "Run 5, iteration: 2/100, moves: 21269, cost: 2406259.0\n",
      "Best run was number 4\n"
     ]
    }
   ],
   "source": [
    "# Trying Kmodes \n",
    "# See docs in https://github.com/nicodv/kmodes\n",
    "\n",
    "from kmodes.kmodes import KModes\n",
    "data = X_trans_first_mnth.to_numpy()\n",
    "km = KModes(n_clusters=2, init='Huang', n_init=5, verbose=1)\n",
    "clusters = km.fit_predict(data, categorical=list(range(15,53)))"
   ]
  },
  {
   "cell_type": "code",
   "execution_count": 61,
   "id": "88d8763b-afe0-4c62-b39d-af9308fea038",
   "metadata": {},
   "outputs": [],
   "source": [
    "y_first_mnth = y[X_trans_first_mnth.index]"
   ]
  },
  {
   "cell_type": "code",
   "execution_count": 69,
   "id": "6fe74043-57cd-4212-92b5-84d5b2425da2",
   "metadata": {},
   "outputs": [
    {
     "data": {
      "text/plain": [
       "array([0, 1, 0, ..., 1, 0, 0], dtype=uint16)"
      ]
     },
     "execution_count": 69,
     "metadata": {},
     "output_type": "execute_result"
    }
   ],
   "source": [
    "clusters"
   ]
  },
  {
   "cell_type": "code",
   "execution_count": 70,
   "id": "ea8df8b8-128e-4bda-baeb-cd185e2cdf63",
   "metadata": {},
   "outputs": [
    {
     "data": {
      "image/png": "[encoded data removed]",
      "text/plain": [
       "<Figure size 800x600 with 2 Axes>"
      ]
     },
     "metadata": {},
     "output_type": "display_data"
    }
   ],
   "source": [
    "from sklearn.metrics import confusion_matrix\n",
    "import seaborn as sns\n",
    "import matplotlib.pyplot as plt\n",
    "\n",
    "# Compute confusion matrix\n",
    "cm = confusion_matrix(y_first_mnth, clusters)\n",
    "\n",
    "# Plotting the confusion matrix\n",
    "plt.figure(figsize=(8,6))\n",
    "sns.heatmap(cm, annot=True, fmt=\"d\")\n",
    "plt.title('Confusion Matrix')\n",
    "plt.ylabel('Actual label')\n",
    "plt.xlabel('Predicted label')\n",
    "plt.show()"
   ]
  },
  {
   "cell_type": "code",
   "execution_count": 71,
   "id": "8587a986-4349-45b1-a622-7a3b0815cd23",
   "metadata": {},
   "outputs": [
    {
     "name": "stdout",
     "output_type": "stream",
     "text": [
      "Accuracy: 0.5386514648142555\n",
      "Precision: 0.009529452426800969\n",
      "Recall: 0.386\n",
      "F1 Score: 0.01859972052233412\n"
     ]
    }
   ],
   "source": [
    "from sklearn.metrics import accuracy_score, precision_score, recall_score, f1_score, roc_auc_score\n",
    "\n",
    "# Accuracy\n",
    "accuracy = accuracy_score(y_first_mnth, clusters)\n",
    "print(f\"Accuracy: {accuracy}\")\n",
    "\n",
    "# Precision\n",
    "precision = precision_score(y_first_mnth, clusters)\n",
    "print(f\"Precision: {precision}\")\n",
    "\n",
    "# Recall\n",
    "recall = recall_score(y_first_mnth, clusters)\n",
    "print(f\"Recall: {recall}\")\n",
    "\n",
    "# F1 Score\n",
    "f1 = f1_score(y_first_mnth, clusters)\n",
    "print(f\"F1 Score: {f1}\")"
   ]
  }
 ],
 "metadata": {
  "kernelspec": {
   "display_name": "Python 3 (ipykernel)",
   "language": "python",
   "name": "python3"
  },
  "language_info": {
   "codemirror_mode": {
    "name": "ipython",
    "version": 3
   },
   "file_extension": ".py",
   "mimetype": "text/x-python",
   "name": "python",
   "nbconvert_exporter": "python",
   "pygments_lexer": "ipython3",
   "version": "3.11.5"
  }
 },
 "nbformat": 4,
 "nbformat_minor": 5
}
